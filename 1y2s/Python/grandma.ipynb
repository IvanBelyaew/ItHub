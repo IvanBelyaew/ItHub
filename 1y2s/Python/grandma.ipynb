import random
bye = 0
print("ЧЕГО СКАЗАТЬ-ТО ХОТЕЛ, МИЛОК?!")
while bye < 3:
    tell_grandma = input().strip()
    if tell_grandma == "ПОКА!":
        bye += 1
    if tell_grandma != tell_grandma.upper():
        print("АСЬ?! ГОВОРИ ГРОМЧЕ, ВНУЧЕК!")
    else:
        print("НЕТ, НИ РАЗУ С", 1930 + random.randint(0, 20), "!")
while bye == 3:
    print("ДО СВИДАНИЯ, МИЛЫЙ")
    break
